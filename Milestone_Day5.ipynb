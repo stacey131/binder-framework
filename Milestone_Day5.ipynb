{
 "cells": [
  {
   "cell_type": "code",
   "execution_count": 3,
   "metadata": {},
   "outputs": [],
   "source": [
    "import pandas as pd\n",
    "import matplotlib.pyplot as plt"
   ]
  },
  {
   "cell_type": "code",
   "execution_count": 4,
   "metadata": {},
   "outputs": [],
   "source": [
    "ES = pd.read_csv('Value_of_Energy_Cost_Savings_Program_Savings_for_Businesses_-_FY2020.csv')"
   ]
  },
  {
   "cell_type": "code",
   "execution_count": 5,
   "metadata": {},
   "outputs": [
    {
     "data": {
      "text/html": [
       "<div>\n",
       "<style scoped>\n",
       "    .dataframe tbody tr th:only-of-type {\n",
       "        vertical-align: middle;\n",
       "    }\n",
       "\n",
       "    .dataframe tbody tr th {\n",
       "        vertical-align: top;\n",
       "    }\n",
       "\n",
       "    .dataframe thead th {\n",
       "        text-align: right;\n",
       "    }\n",
       "</style>\n",
       "<table border=\"1\" class=\"dataframe\">\n",
       "  <thead>\n",
       "    <tr style=\"text-align: right;\">\n",
       "      <th></th>\n",
       "      <th>Company Name</th>\n",
       "      <th>company contact</th>\n",
       "      <th>company email</th>\n",
       "      <th>company phone</th>\n",
       "      <th>Address</th>\n",
       "      <th>City</th>\n",
       "      <th>State</th>\n",
       "      <th>Postcode</th>\n",
       "      <th>Industry</th>\n",
       "      <th>Industry descr</th>\n",
       "      <th>...</th>\n",
       "      <th>Savings from beginning receiving benefits</th>\n",
       "      <th>Borough</th>\n",
       "      <th>Latitude</th>\n",
       "      <th>Longitude</th>\n",
       "      <th>Community Board</th>\n",
       "      <th>Council District</th>\n",
       "      <th>Census Tract</th>\n",
       "      <th>BIN</th>\n",
       "      <th>BBL</th>\n",
       "      <th>NTA</th>\n",
       "    </tr>\n",
       "  </thead>\n",
       "  <tbody>\n",
       "    <tr>\n",
       "      <td>0</td>\n",
       "      <td>1 State Street</td>\n",
       "      <td>David Neiburg</td>\n",
       "      <td>eskoblo@energyspec.com</td>\n",
       "      <td>7186779077</td>\n",
       "      <td>1114 Avenue J</td>\n",
       "      <td>Brooklyn</td>\n",
       "      <td>NY</td>\n",
       "      <td>11230</td>\n",
       "      <td>Commercial</td>\n",
       "      <td>35 story building</td>\n",
       "      <td>...</td>\n",
       "      <td>349.78</td>\n",
       "      <td>Brooklyn</td>\n",
       "      <td>40.624784</td>\n",
       "      <td>-73.964920</td>\n",
       "      <td>314.0</td>\n",
       "      <td>44.0</td>\n",
       "      <td>534.0</td>\n",
       "      <td>3179818.0</td>\n",
       "      <td>3.067130e+09</td>\n",
       "      <td>Midwood</td>\n",
       "    </tr>\n",
       "    <tr>\n",
       "      <td>1</td>\n",
       "      <td>100 Church LLC</td>\n",
       "      <td>Edward A. Carroll</td>\n",
       "      <td>NaN</td>\n",
       "      <td>2125663000</td>\n",
       "      <td>100 Church Street</td>\n",
       "      <td>NY</td>\n",
       "      <td>NY</td>\n",
       "      <td>10007</td>\n",
       "      <td>Commercial</td>\n",
       "      <td>21 Floors</td>\n",
       "      <td>...</td>\n",
       "      <td>4423698.05</td>\n",
       "      <td>New York</td>\n",
       "      <td>40.712968</td>\n",
       "      <td>-74.009490</td>\n",
       "      <td>101.0</td>\n",
       "      <td>1.0</td>\n",
       "      <td>21.0</td>\n",
       "      <td>1001409.0</td>\n",
       "      <td>1.001250e+09</td>\n",
       "      <td>SoHo-TriBeCa-Civic Center-Little Italy</td>\n",
       "    </tr>\n",
       "    <tr>\n",
       "      <td>2</td>\n",
       "      <td>100 Wall Investments</td>\n",
       "      <td>Jerry Branam</td>\n",
       "      <td>NaN</td>\n",
       "      <td>2122487160</td>\n",
       "      <td>96 Wall Street</td>\n",
       "      <td>New York</td>\n",
       "      <td>NY</td>\n",
       "      <td>10005</td>\n",
       "      <td>Landlord</td>\n",
       "      <td>NaN</td>\n",
       "      <td>...</td>\n",
       "      <td>1814542.62</td>\n",
       "      <td>New York</td>\n",
       "      <td>40.705052</td>\n",
       "      <td>-74.007199</td>\n",
       "      <td>101.0</td>\n",
       "      <td>1.0</td>\n",
       "      <td>7.0</td>\n",
       "      <td>1000875.0</td>\n",
       "      <td>1.000380e+09</td>\n",
       "      <td>Battery Park City-Lower Manhattan</td>\n",
       "    </tr>\n",
       "    <tr>\n",
       "      <td>3</td>\n",
       "      <td>1-10 Bush Terminal Owner LP</td>\n",
       "      <td>Andrew Kimball</td>\n",
       "      <td>akimball@industrycity.com</td>\n",
       "      <td>3474178429</td>\n",
       "      <td>220 36th St, Suite 2A</td>\n",
       "      <td>Brooklyn</td>\n",
       "      <td>NY</td>\n",
       "      <td>11232</td>\n",
       "      <td>Landlord</td>\n",
       "      <td>Special Eligible Premises for eligible businesses</td>\n",
       "      <td>...</td>\n",
       "      <td>6755.31</td>\n",
       "      <td>Brooklyn</td>\n",
       "      <td>40.656061</td>\n",
       "      <td>-74.007334</td>\n",
       "      <td>307.0</td>\n",
       "      <td>38.0</td>\n",
       "      <td>2.0</td>\n",
       "      <td>3398687.0</td>\n",
       "      <td>3.006950e+09</td>\n",
       "      <td>Sunset Park West</td>\n",
       "    </tr>\n",
       "    <tr>\n",
       "      <td>4</td>\n",
       "      <td>120 Broadway Acquisitions JV, LLC (Ldmk)</td>\n",
       "      <td>Carl Letich</td>\n",
       "      <td>clettich@silvprop.com</td>\n",
       "      <td>2124064020</td>\n",
       "      <td>120 Broadway</td>\n",
       "      <td>New York</td>\n",
       "      <td>NY</td>\n",
       "      <td>10271</td>\n",
       "      <td>Commercial</td>\n",
       "      <td>NaN</td>\n",
       "      <td>...</td>\n",
       "      <td>3293055.08</td>\n",
       "      <td>New York</td>\n",
       "      <td>40.708546</td>\n",
       "      <td>-74.011041</td>\n",
       "      <td>101.0</td>\n",
       "      <td>1.0</td>\n",
       "      <td>7.0</td>\n",
       "      <td>1001026.0</td>\n",
       "      <td>1.000478e+09</td>\n",
       "      <td>Battery Park City-Lower Manhattan</td>\n",
       "    </tr>\n",
       "    <tr>\n",
       "      <td>...</td>\n",
       "      <td>...</td>\n",
       "      <td>...</td>\n",
       "      <td>...</td>\n",
       "      <td>...</td>\n",
       "      <td>...</td>\n",
       "      <td>...</td>\n",
       "      <td>...</td>\n",
       "      <td>...</td>\n",
       "      <td>...</td>\n",
       "      <td>...</td>\n",
       "      <td>...</td>\n",
       "      <td>...</td>\n",
       "      <td>...</td>\n",
       "      <td>...</td>\n",
       "      <td>...</td>\n",
       "      <td>...</td>\n",
       "      <td>...</td>\n",
       "      <td>...</td>\n",
       "      <td>...</td>\n",
       "      <td>...</td>\n",
       "      <td>...</td>\n",
       "    </tr>\n",
       "    <tr>\n",
       "      <td>445</td>\n",
       "      <td>WONTON FOOD, INC.</td>\n",
       "      <td>DONALD LAU</td>\n",
       "      <td>donaldlau@wontonfood.com</td>\n",
       "      <td>7186286868</td>\n",
       "      <td>220-222  MOORE STREET</td>\n",
       "      <td>Brooklyn</td>\n",
       "      <td>NY</td>\n",
       "      <td>11206</td>\n",
       "      <td>Manufacturing</td>\n",
       "      <td>MFG. PASTA, EGGROLL SKINS</td>\n",
       "      <td>...</td>\n",
       "      <td>965843.58</td>\n",
       "      <td>Brooklyn</td>\n",
       "      <td>40.704425</td>\n",
       "      <td>-73.936010</td>\n",
       "      <td>301.0</td>\n",
       "      <td>34.0</td>\n",
       "      <td>485.0</td>\n",
       "      <td>3071539.0</td>\n",
       "      <td>3.031090e+09</td>\n",
       "      <td>Bushwick South</td>\n",
       "    </tr>\n",
       "    <tr>\n",
       "      <td>446</td>\n",
       "      <td>Wood Works</td>\n",
       "      <td>Gordon Brawm</td>\n",
       "      <td>brawnworks@gmail.com</td>\n",
       "      <td>9179404950</td>\n",
       "      <td>162 Cook Street</td>\n",
       "      <td>Brooklyn</td>\n",
       "      <td>NY</td>\n",
       "      <td>11206</td>\n",
       "      <td>Manufacturing</td>\n",
       "      <td>Installer of wood furniture</td>\n",
       "      <td>...</td>\n",
       "      <td>3585.40</td>\n",
       "      <td>Brooklyn</td>\n",
       "      <td>40.702869</td>\n",
       "      <td>-73.936466</td>\n",
       "      <td>301.0</td>\n",
       "      <td>34.0</td>\n",
       "      <td>485.0</td>\n",
       "      <td>3071625.0</td>\n",
       "      <td>3.031230e+09</td>\n",
       "      <td>Bushwick South</td>\n",
       "    </tr>\n",
       "    <tr>\n",
       "      <td>447</td>\n",
       "      <td>WorldWide Plumbing Supply, Inc.</td>\n",
       "      <td>Surie Lefkowitz</td>\n",
       "      <td>sheidya@wwps.com</td>\n",
       "      <td>7188533002</td>\n",
       "      <td>125 Lake Avenue</td>\n",
       "      <td>Staten Island</td>\n",
       "      <td>NY</td>\n",
       "      <td>10303</td>\n",
       "      <td>Manufacturing</td>\n",
       "      <td>Plumbing Fixtures, Parts &amp; Supplies, Plumbers</td>\n",
       "      <td>...</td>\n",
       "      <td>20487.73</td>\n",
       "      <td>Staten Island</td>\n",
       "      <td>40.633518</td>\n",
       "      <td>-74.150942</td>\n",
       "      <td>501.0</td>\n",
       "      <td>49.0</td>\n",
       "      <td>239.0</td>\n",
       "      <td>5107122.0</td>\n",
       "      <td>5.011610e+09</td>\n",
       "      <td>Mariner's Harbor-Arlington-Port Ivory-Granitev...</td>\n",
       "    </tr>\n",
       "    <tr>\n",
       "      <td>448</td>\n",
       "      <td>WUD Furniture LLC</td>\n",
       "      <td>Keren Springer</td>\n",
       "      <td>keren@wudfurniture.com</td>\n",
       "      <td>7184867952</td>\n",
       "      <td>1102 Atlantic Avenue</td>\n",
       "      <td>Brooklyn</td>\n",
       "      <td>NY</td>\n",
       "      <td>11238</td>\n",
       "      <td>Manufacturing</td>\n",
       "      <td>We make handcrafted furniture, surfaces, lighting</td>\n",
       "      <td>...</td>\n",
       "      <td>12287.32</td>\n",
       "      <td>Brooklyn</td>\n",
       "      <td>40.679518</td>\n",
       "      <td>-73.956819</td>\n",
       "      <td>308.0</td>\n",
       "      <td>35.0</td>\n",
       "      <td>305.0</td>\n",
       "      <td>3027572.0</td>\n",
       "      <td>3.011260e+09</td>\n",
       "      <td>Crown Heights North</td>\n",
       "    </tr>\n",
       "    <tr>\n",
       "      <td>449</td>\n",
       "      <td>Wurtec Incorporated</td>\n",
       "      <td>Bill Popp</td>\n",
       "      <td>bill.popp@wurtec.com</td>\n",
       "      <td>4197261066</td>\n",
       "      <td>31-50 31st Street</td>\n",
       "      <td>Lond Island City</td>\n",
       "      <td>NY</td>\n",
       "      <td>11106</td>\n",
       "      <td>Wholesale/Warehouse/Distribution</td>\n",
       "      <td>Elevator  tooling products</td>\n",
       "      <td>...</td>\n",
       "      <td>0.00</td>\n",
       "      <td>Queens</td>\n",
       "      <td>40.763148</td>\n",
       "      <td>-73.924442</td>\n",
       "      <td>401.0</td>\n",
       "      <td>22.0</td>\n",
       "      <td>61.0</td>\n",
       "      <td>4007562.0</td>\n",
       "      <td>4.005890e+09</td>\n",
       "      <td>Astoria</td>\n",
       "    </tr>\n",
       "  </tbody>\n",
       "</table>\n",
       "<p>450 rows × 26 columns</p>\n",
       "</div>"
      ],
      "text/plain": [
       "                                 Company Name    company contact  \\\n",
       "0                              1 State Street      David Neiburg   \n",
       "1                              100 Church LLC  Edward A. Carroll   \n",
       "2                        100 Wall Investments       Jerry Branam   \n",
       "3                 1-10 Bush Terminal Owner LP     Andrew Kimball   \n",
       "4    120 Broadway Acquisitions JV, LLC (Ldmk)        Carl Letich   \n",
       "..                                        ...                ...   \n",
       "445                         WONTON FOOD, INC.         DONALD LAU   \n",
       "446                                Wood Works       Gordon Brawm   \n",
       "447           WorldWide Plumbing Supply, Inc.    Surie Lefkowitz   \n",
       "448                         WUD Furniture LLC     Keren Springer   \n",
       "449                       Wurtec Incorporated          Bill Popp   \n",
       "\n",
       "                 company email company phone                Address  \\\n",
       "0       eskoblo@energyspec.com    7186779077          1114 Avenue J   \n",
       "1                          NaN    2125663000      100 Church Street   \n",
       "2                          NaN    2122487160         96 Wall Street   \n",
       "3    akimball@industrycity.com    3474178429  220 36th St, Suite 2A   \n",
       "4        clettich@silvprop.com    2124064020           120 Broadway   \n",
       "..                         ...           ...                    ...   \n",
       "445   donaldlau@wontonfood.com    7186286868  220-222  MOORE STREET   \n",
       "446       brawnworks@gmail.com    9179404950        162 Cook Street   \n",
       "447           sheidya@wwps.com    7188533002        125 Lake Avenue   \n",
       "448     keren@wudfurniture.com    7184867952   1102 Atlantic Avenue   \n",
       "449       bill.popp@wurtec.com    4197261066      31-50 31st Street   \n",
       "\n",
       "                 City State  Postcode                          Industry  \\\n",
       "0            Brooklyn    NY     11230                        Commercial   \n",
       "1                  NY    NY     10007                        Commercial   \n",
       "2            New York    NY     10005                          Landlord   \n",
       "3            Brooklyn    NY     11232                          Landlord   \n",
       "4            New York    NY     10271                        Commercial   \n",
       "..                ...   ...       ...                               ...   \n",
       "445          Brooklyn    NY     11206                     Manufacturing   \n",
       "446          Brooklyn    NY     11206                     Manufacturing   \n",
       "447     Staten Island    NY     10303                     Manufacturing   \n",
       "448          Brooklyn    NY     11238                     Manufacturing   \n",
       "449  Lond Island City    NY     11106  Wholesale/Warehouse/Distribution   \n",
       "\n",
       "                                        Industry descr  ...  \\\n",
       "0                                    35 story building  ...   \n",
       "1                                            21 Floors  ...   \n",
       "2                                                  NaN  ...   \n",
       "3    Special Eligible Premises for eligible businesses  ...   \n",
       "4                                                  NaN  ...   \n",
       "..                                                 ...  ...   \n",
       "445                          MFG. PASTA, EGGROLL SKINS  ...   \n",
       "446                        Installer of wood furniture  ...   \n",
       "447      Plumbing Fixtures, Parts & Supplies, Plumbers  ...   \n",
       "448  We make handcrafted furniture, surfaces, lighting  ...   \n",
       "449                         Elevator  tooling products  ...   \n",
       "\n",
       "    Savings from beginning receiving benefits        Borough   Latitude  \\\n",
       "0                                      349.78       Brooklyn  40.624784   \n",
       "1                                  4423698.05       New York  40.712968   \n",
       "2                                  1814542.62       New York  40.705052   \n",
       "3                                     6755.31       Brooklyn  40.656061   \n",
       "4                                  3293055.08       New York  40.708546   \n",
       "..                                        ...            ...        ...   \n",
       "445                                 965843.58       Brooklyn  40.704425   \n",
       "446                                   3585.40       Brooklyn  40.702869   \n",
       "447                                  20487.73  Staten Island  40.633518   \n",
       "448                                  12287.32       Brooklyn  40.679518   \n",
       "449                                      0.00         Queens  40.763148   \n",
       "\n",
       "     Longitude Community Board  Council District  Census Tract        BIN  \\\n",
       "0   -73.964920           314.0              44.0         534.0  3179818.0   \n",
       "1   -74.009490           101.0               1.0          21.0  1001409.0   \n",
       "2   -74.007199           101.0               1.0           7.0  1000875.0   \n",
       "3   -74.007334           307.0              38.0           2.0  3398687.0   \n",
       "4   -74.011041           101.0               1.0           7.0  1001026.0   \n",
       "..         ...             ...               ...           ...        ...   \n",
       "445 -73.936010           301.0              34.0         485.0  3071539.0   \n",
       "446 -73.936466           301.0              34.0         485.0  3071625.0   \n",
       "447 -74.150942           501.0              49.0         239.0  5107122.0   \n",
       "448 -73.956819           308.0              35.0         305.0  3027572.0   \n",
       "449 -73.924442           401.0              22.0          61.0  4007562.0   \n",
       "\n",
       "              BBL                                                NTA  \n",
       "0    3.067130e+09                                            Midwood  \n",
       "1    1.001250e+09             SoHo-TriBeCa-Civic Center-Little Italy  \n",
       "2    1.000380e+09                  Battery Park City-Lower Manhattan  \n",
       "3    3.006950e+09                                   Sunset Park West  \n",
       "4    1.000478e+09                  Battery Park City-Lower Manhattan  \n",
       "..            ...                                                ...  \n",
       "445  3.031090e+09                                     Bushwick South  \n",
       "446  3.031230e+09                                     Bushwick South  \n",
       "447  5.011610e+09  Mariner's Harbor-Arlington-Port Ivory-Granitev...  \n",
       "448  3.011260e+09                                Crown Heights North  \n",
       "449  4.005890e+09                                            Astoria  \n",
       "\n",
       "[450 rows x 26 columns]"
      ]
     },
     "execution_count": 5,
     "metadata": {},
     "output_type": "execute_result"
    }
   ],
   "source": [
    "ES"
   ]
  },
  {
   "cell_type": "code",
   "execution_count": 6,
   "metadata": {},
   "outputs": [],
   "source": [
    "NTA_count = ES.groupby('NTA')['Company Name'].nunique()"
   ]
  },
  {
   "cell_type": "code",
   "execution_count": 7,
   "metadata": {},
   "outputs": [],
   "source": [
    "Qualified_NTA = ES[ES['NTA'].isin(NTA_count[NTA_count>=5].index.tolist())]"
   ]
  },
  {
   "cell_type": "code",
   "execution_count": 10,
   "metadata": {},
   "outputs": [],
   "source": [
    "Average_Saving = Qualified_NTA.groupby('NTA').mean()['Total Savings'] #average total savings for each NTA"
   ]
  },
  {
   "cell_type": "code",
   "execution_count": 22,
   "metadata": {},
   "outputs": [],
   "source": [
    "Total_jobs = Qualified_NTA.groupby('NTA').sum()['Job created'] # total jobs created for each NTA"
   ]
  },
  {
   "cell_type": "code",
   "execution_count": 23,
   "metadata": {},
   "outputs": [
    {
     "data": {
      "text/plain": [
       "NTA\n",
       "Battery Park City-Lower Manhattan                    0.0\n",
       "Bushwick South                                      10.0\n",
       "Carroll Gardens-Columbia Street-Red Hook             0.0\n",
       "College Point                                        2.0\n",
       "Crown Heights North                                  0.0\n",
       "DUMBO-Vinegar Hill-Downtown Brooklyn-Boerum Hill     0.0\n",
       "East New York                                       15.0\n",
       "East Williamsburg                                    0.0\n",
       "Greenpoint                                           0.0\n",
       "Hunters Point-Sunnyside-West Maspeth                 0.0\n",
       "Hunts Point                                         12.0\n",
       "Manhattanville                                       0.0\n",
       "Maspeth                                             10.0\n",
       "Mott Haven-Port Morris                              10.0\n",
       "Queensbridge-Ravenswood-Long Island City             0.0\n",
       "SoHo-TriBeCa-Civic Center-Little Italy               0.0\n",
       "Springfield Gardens South-Brookville                 0.0\n",
       "Steinway                                            20.0\n",
       "Sunset Park West                                     0.0\n",
       "park-cemetery-etc-Brooklyn                           0.0\n",
       "Name: Job created, dtype: float64"
      ]
     },
     "execution_count": 23,
     "metadata": {},
     "output_type": "execute_result"
    }
   ],
   "source": [
    "Total_jobs"
   ]
  },
  {
   "cell_type": "code",
   "execution_count": 12,
   "metadata": {},
   "outputs": [
    {
     "data": {
      "text/plain": [
       "NTA\n",
       "Battery Park City-Lower Manhattan                   469890.796667\n",
       "Bushwick South                                       26140.455000\n",
       "Carroll Gardens-Columbia Street-Red Hook             24337.390000\n",
       "College Point                                        17159.372857\n",
       "Crown Heights North                                   4036.298889\n",
       "DUMBO-Vinegar Hill-Downtown Brooklyn-Boerum Hill     59950.340000\n",
       "East New York                                        48433.093333\n",
       "East Williamsburg                                    13990.626364\n",
       "Greenpoint                                            9753.649286\n",
       "Hunters Point-Sunnyside-West Maspeth                 23931.398933\n",
       "Hunts Point                                          39246.016154\n",
       "Manhattanville                                        2760.888889\n",
       "Maspeth                                               6658.283333\n",
       "Mott Haven-Port Morris                               17843.937857\n",
       "Queensbridge-Ravenswood-Long Island City             61830.770625\n",
       "SoHo-TriBeCa-Civic Center-Little Italy               37214.024000\n",
       "Springfield Gardens South-Brookville                 17757.662000\n",
       "Steinway                                             11227.155714\n",
       "Sunset Park West                                     14316.976875\n",
       "park-cemetery-etc-Brooklyn                           14327.419333\n",
       "Name: Total Savings, dtype: float64"
      ]
     },
     "execution_count": 12,
     "metadata": {},
     "output_type": "execute_result"
    }
   ],
   "source": [
    "Average_Saving"
   ]
  },
  {
   "cell_type": "code",
   "execution_count": 24,
   "metadata": {},
   "outputs": [
    {
     "data": {
      "image/png": "[encoded data removed]",
      "text/plain": [
       "<Figure size 432x288 with 1 Axes>"
      ]
     },
     "metadata": {
      "needs_background": "light"
     },
     "output_type": "display_data"
    }
   ],
   "source": [
    "plt.scatter(Total_jobs, Average_Saving)\n",
    "#scatter plot of jobs created versus average savings. Use both a standard and a logarithmic scale for the average savings.\n",
    "plt.xlabel(\"Total Jobs Created\")\n",
    "plt.ylabel(\"Average Total Savings\")\n",
    "plt.show()"
   ]
  },
  {
   "cell_type": "code",
   "execution_count": 25,
   "metadata": {},
   "outputs": [],
   "source": [
    "import numpy as np"
   ]
  },
  {
   "cell_type": "code",
   "execution_count": 26,
   "metadata": {},
   "outputs": [],
   "source": [
    "log_savings = np.log(Average_Saving)"
   ]
  },
  {
   "cell_type": "code",
   "execution_count": 29,
   "metadata": {},
   "outputs": [
    {
     "data": {
      "image/png": "[encoded data removed]",
      "text/plain": [
       "<Figure size 432x288 with 1 Axes>"
      ]
     },
     "metadata": {
      "needs_background": "light"
     },
     "output_type": "display_data"
    }
   ],
   "source": [
    "plt.hist(log_savings)\n",
    "plt.show() #histogram of the log of the average total savings"
   ]
  },
  {
   "cell_type": "code",
   "execution_count": 33,
   "metadata": {},
   "outputs": [],
   "source": [
    "ES[\"Effective Date\"] = pd.to_datetime(ES[\"Effective Date\"])"
   ]
  },
  {
   "cell_type": "code",
   "execution_count": 34,
   "metadata": {},
   "outputs": [
    {
     "data": {
      "text/plain": [
       "0     2005-03-04\n",
       "1     2008-04-02\n",
       "2     2015-01-05\n",
       "3     2020-02-03\n",
       "4     2017-06-30\n",
       "         ...    \n",
       "445   2008-12-09\n",
       "446   2017-12-05\n",
       "447   2018-08-03\n",
       "448   2016-01-26\n",
       "449   2019-10-03\n",
       "Name: Effective Date, Length: 450, dtype: datetime64[ns]"
      ]
     },
     "execution_count": 34,
     "metadata": {},
     "output_type": "execute_result"
    }
   ],
   "source": [
    "ES['Effective Date']"
   ]
  },
  {
   "cell_type": "code",
   "execution_count": 63,
   "metadata": {},
   "outputs": [],
   "source": [
    "months = pd.DatetimeIndex(Qualified_NTA['Effective Date']).month"
   ]
  },
  {
   "cell_type": "code",
   "execution_count": 64,
   "metadata": {},
   "outputs": [],
   "source": [
    "jobs = Qualified_NTA['Job created']"
   ]
  },
  {
   "cell_type": "code",
   "execution_count": 65,
   "metadata": {},
   "outputs": [
    {
     "data": {
      "text/plain": [
       "1       NaN\n",
       "2       NaN\n",
       "3       NaN\n",
       "4       NaN\n",
       "5       NaN\n",
       "       ... \n",
       "443     NaN\n",
       "444     NaN\n",
       "445    10.0\n",
       "446     NaN\n",
       "448     NaN\n",
       "Name: Job created, Length: 306, dtype: float64"
      ]
     },
     "execution_count": 65,
     "metadata": {},
     "output_type": "execute_result"
    }
   ],
   "source": [
    "jobs"
   ]
  },
  {
   "cell_type": "code",
   "execution_count": 68,
   "metadata": {},
   "outputs": [
    {
     "data": {
      "image/png": "[encoded data removed]",
      "text/plain": [
       "<Figure size 432x288 with 1 Axes>"
      ]
     },
     "metadata": {
      "needs_background": "light"
     },
     "output_type": "display_data"
    }
   ],
   "source": [
    "plt.plot(months,jobs)\n",
    "plt.show()"
   ]
  },
  {
   "cell_type": "code",
   "execution_count": null,
   "metadata": {},
   "outputs": [],
   "source": []
  }
 ],
 "metadata": {
  "kernelspec": {
   "display_name": "Python 3",
   "language": "python",
   "name": "python3"
  },
  "language_info": {
   "codemirror_mode": {
    "name": "ipython",
    "version": 3
   },
   "file_extension": ".py",
   "mimetype": "text/x-python",
   "name": "python",
   "nbconvert_exporter": "python",
   "pygments_lexer": "ipython3",
   "version": "3.7.4"
  }
 },
 "nbformat": 4,
 "nbformat_minor": 2
}
